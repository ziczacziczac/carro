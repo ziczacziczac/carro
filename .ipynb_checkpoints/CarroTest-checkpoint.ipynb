{
 "cells": [
  {
   "cell_type": "code",
   "execution_count": 138,
   "metadata": {},
   "outputs": [],
   "source": [
    "import pandas as pd\n",
    "import numpy as np"
   ]
  },
  {
   "cell_type": "code",
   "execution_count": 139,
   "metadata": {},
   "outputs": [],
   "source": [
    "#Load students dataframe\n",
    "#input: file_path: Path to students csv file\n",
    "#output: students: Pandas dataframe\n",
    "def load_students(file_path):\n",
    "    return pd.read_csv(file_path)\n",
    "\n",
    "#Load polls dataframe\n",
    "#input: file_path: Path to poll csv file\n",
    "#output: polls: Pandas dataframe\n",
    "def load_polls(file_path):\n",
    "    polls = pd.read_csv(file_path)\n",
    "    votes = polls['vote_1,vote_2'].values\n",
    "    vote_1 = []\n",
    "    vote_2 = []\n",
    "    \n",
    "    for vote in votes:\n",
    "        vote_parts = vote.split(',')\n",
    "        vote_1.append(int(vote_parts[0]))\n",
    "        vote_2.append(int(vote_parts[1]))\n",
    "        \n",
    "    polls['vote_1'] = vote_1\n",
    "    polls['vote_2'] = vote_2\n",
    "    \n",
    "    polls = polls.drop(columns = ['vote_1,vote_2'], axis = 1)\n",
    "    \n",
    "    return polls\n",
    "\n",
    "#Count total polls, the result is a dataframe with two columns, first is id of student, and second is vote count\n",
    "#Note: There are serverals students vote for themself 2 times, this function counts as 2 valid vote\n",
    "\n",
    "#input: polls: dataframe of student's polls\n",
    "#output: vote_count: dataframe of student's vote count, first column is \"id\" of student, and second is \"vote_count\"\n",
    "def count_votes(polls):\n",
    "    vote_1 = polls['vote_1'].values\n",
    "    vote_2 = polls['vote_2'].values\n",
    "\n",
    "    votes = np.append(vote_1, vote_2)\n",
    "    \n",
    "    total_vote = pd.DataFrame({'id': votes, 'vote_count': np.ones(len(votes))})\n",
    "    vote_count = total_vote.groupby('id', as_index=False).sum()\n",
    "    return(vote_count)\n",
    "\n",
    "#Return the elected presidents, if there are serverals students, \n",
    "#who have same vote count, all their names will be return\n",
    "#input: total_votes_with_name: dataframe of student's vote count with their name\n",
    "#ouput: elected_presidents: arrays of student's names have bigest vote count\n",
    "def get_elected_presidents(total_votes_with_name):\n",
    "    vote_count_max = np.max(vote_count['vote_count'].values)\n",
    "    total_votes_with_name = total_votes_with_name[total_votes_with_name.vote_count == vote_count_max]\n",
    "    return(total_votes_with_name.student_name.values)\n",
    "    "
   ]
  },
  {
   "cell_type": "code",
   "execution_count": 140,
   "metadata": {},
   "outputs": [],
   "source": [
    "#Load data\n",
    "students = load_students('Students.csv')\n",
    "polls = load_polls('Polls.csv')"
   ]
  },
  {
   "cell_type": "code",
   "execution_count": 141,
   "metadata": {},
   "outputs": [
    {
     "name": "stdout",
     "output_type": "stream",
     "text": [
      "    id  vote_count        student_name\n",
      "0   20         4.0        Keith Becker\n",
      "1    6         3.0     Kimberly Guzman\n",
      "2   18         3.0        Sheri Franco\n",
      "3    2         3.0     Scott Donaldson\n",
      "4    7         3.0     Michael Charles\n",
      "5   11         3.0          Marc Evans\n",
      "6    4         3.0       Austin Nelson\n",
      "7    8         2.0      Matthew Turner\n",
      "8   12         2.0         Ivan Cannon\n",
      "9   15         2.0  Samantha Blackwell\n",
      "10  19         2.0      Kimberly Jones\n",
      "11   1         2.0         Ashley Reid\n",
      "12   5         1.0        Kurt Gregory\n",
      "13   9         1.0        Leslie Weiss\n",
      "14  10         1.0           Jose Mata\n",
      "15  13         1.0     Robert Buchanan\n",
      "16  14         1.0        Cameron King\n",
      "17  16         1.0        David Hudson\n",
      "18  17         1.0   Curtis Williamson\n",
      "19   3         1.0           Lisa Tate\n"
     ]
    }
   ],
   "source": [
    "#Student's vote count\n",
    "total_votes = count_votes(polls)\n",
    "total_votes = total_votes.sort_values(by = ['vote_count'], ascending = False)\n",
    "\n",
    "total_votes_with_name = pd.merge(total_votes, students, on = 'id')\n",
    "print(total_votes_with_name)"
   ]
  },
  {
   "cell_type": "code",
   "execution_count": 142,
   "metadata": {},
   "outputs": [
    {
     "name": "stdout",
     "output_type": "stream",
     "text": [
      "Keith Becker\n"
     ]
    }
   ],
   "source": [
    "#Print elected President name\n",
    "print(','.join(get_elected_presidents(total_votes_with_name)))"
   ]
  },
  {
   "cell_type": "code",
   "execution_count": null,
   "metadata": {},
   "outputs": [],
   "source": []
  }
 ],
 "metadata": {
  "kernelspec": {
   "display_name": "Python 3",
   "language": "python",
   "name": "python3"
  },
  "language_info": {
   "codemirror_mode": {
    "name": "ipython",
    "version": 3
   },
   "file_extension": ".py",
   "mimetype": "text/x-python",
   "name": "python",
   "nbconvert_exporter": "python",
   "pygments_lexer": "ipython3",
   "version": "3.7.1"
  }
 },
 "nbformat": 4,
 "nbformat_minor": 2
}
